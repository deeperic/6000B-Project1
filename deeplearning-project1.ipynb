{
 "cells": [
  {
   "cell_type": "code",
   "execution_count": 6,
   "metadata": {
    "collapsed": true
   },
   "outputs": [],
   "source": [
    "import numpy as np\n",
    "import pandas\n",
    "\n",
    "dataset = pandas.read_csv('/Users/ceric/Downloads/deeplearning/project1/traindata.csv', ',')\n",
    "y_true = pandas.read_csv('/Users/ceric/Downloads/deeplearning/project1/trainlabel.csv', ',')\n",
    "\n",
    "X = dataset\n",
    "y = y_true['y']\n",
    "\n",
    "from sklearn import preprocessing\n",
    "scalerX = preprocessing.StandardScaler().fit(X)\n",
    "X = scalerX.transform(X)  "
   ]
  },
  {
   "cell_type": "code",
   "execution_count": 28,
   "metadata": {
    "collapsed": false
   },
   "outputs": [
    {
     "name": "stdout",
     "output_type": "stream",
     "text": [
      "Automatically created module for IPython interactive environment\n",
      "0.878884278229\n",
      "0.900002487558\n",
      "0.907143803407\n",
      "0.913973596019\n",
      "0.918945530003\n",
      "0.922672238796\n",
      "0.920497939666\n",
      "0.922048613823\n",
      "0.92298000177\n",
      "0.927018812301\n"
     ]
    },
    {
     "data": {
      "image/png": "[encoded data removed]",
      "text/plain": [
       "<matplotlib.figure.Figure at 0x1004352d0>"
      ]
     },
     "metadata": {},
     "output_type": "display_data"
    }
   ],
   "source": [
    "print(__doc__)\n",
    "\n",
    "import numpy as np\n",
    "import matplotlib.pyplot as plt\n",
    "from sklearn import svm, datasets, feature_selection\n",
    "from sklearn.linear_model import LogisticRegression, LogisticRegressionCV\n",
    "from sklearn.model_selection import cross_val_score\n",
    "from sklearn.pipeline import Pipeline\n",
    "\n",
    "n_samples = len(y)\n",
    "\n",
    "\n",
    "transform = feature_selection.SelectPercentile(feature_selection.f_classif)\n",
    "\n",
    "clf = Pipeline([('anova', transform), ('svc', svm.SVC(kernel='rbf', C=5.0))])\n",
    "\n",
    "# #############################################################################\n",
    "# Plot the cross-validation score as a function of percentile of features\n",
    "score_means = list()\n",
    "score_stds = list()\n",
    "percentiles = (10, 20, 30, 40, 50, 60, 70, 80, 90, 100)\n",
    "\n",
    "for percentile in percentiles:\n",
    "    clf.set_params(anova__percentile=percentile)\n",
    "    # Compute cross-validation score using 1 CPU\n",
    "    this_scores = cross_val_score(clf, X, y, n_jobs=1)\n",
    "    print(this_scores.mean())\n",
    "    score_means.append(this_scores.mean())\n",
    "    score_stds.append(this_scores.std())\n",
    "\n",
    "plt.errorbar(percentiles, score_means, np.array(score_stds))\n",
    "\n",
    "plt.title(\n",
    "    'Performance of the SVM-Anova varying the percentile of features selected')\n",
    "plt.xlabel('Percentile')\n",
    "plt.ylabel('Prediction rate')\n",
    "\n",
    "plt.axis('tight')\n",
    "plt.show()"
   ]
  },
  {
   "cell_type": "code",
   "execution_count": 27,
   "metadata": {
    "collapsed": false
   },
   "outputs": [
    {
     "name": "stdout",
     "output_type": "stream",
     "text": [
      "Automatically created module for IPython interactive environment\n",
      "GridSearchCV took 0.74 seconds for 9 candidate parameter settings.\n",
      "Model with rank: 1\n",
      "Mean validation score: 0.929 (std: 0.016)\n",
      "Parameters: {'C': 5}\n",
      "\n",
      "Model with rank: 2\n",
      "Mean validation score: 0.928 (std: 0.011)\n",
      "Parameters: {'C': 7}\n",
      "\n",
      "Model with rank: 3\n",
      "Mean validation score: 0.924 (std: 0.008)\n",
      "Parameters: {'C': 2}\n",
      "\n"
     ]
    }
   ],
   "source": [
    "print(__doc__)\n",
    "\n",
    "import pandas\n",
    "import numpy as np\n",
    "\n",
    "from time import time\n",
    "from scipy.stats import randint as sp_randint\n",
    "\n",
    "from sklearn.model_selection import GridSearchCV\n",
    "from sklearn.model_selection import RandomizedSearchCV\n",
    "from sklearn.datasets import load_digits\n",
    "from sklearn.ensemble import RandomForestClassifier\n",
    "from sklearn import preprocessing\n",
    "from sklearn.svm import SVC\n",
    "from sklearn.model_selection import train_test_split\n",
    "\n",
    "\n",
    "X_original = pandas.read_csv('/Users/ceric/Downloads/deeplearning/project1/traindata.csv', ',')\n",
    "X = X_original\n",
    "y_true = pandas.read_csv('/Users/ceric/Downloads/deeplearning/project1/trainlabel.csv', ',')\n",
    "y = y_true['y']\n",
    "\n",
    "scalerX = preprocessing.StandardScaler().fit(X)\n",
    "X = scalerX.transform(X)     \n",
    "\n",
    "X_train, X_test, y_train, y_test = train_test_split(\n",
    "    X, y, test_size=0.7, random_state=0)\n",
    "\n",
    "\n",
    "\n",
    "# build a classifier\n",
    "clf = SVC(kernel='rbf')\n",
    "\n",
    "\n",
    "# Utility function to report best scores\n",
    "def report(results, n_top=3):\n",
    "    for i in range(1, n_top + 1):\n",
    "        candidates = np.flatnonzero(results['rank_test_score'] == i)\n",
    "        for candidate in candidates:\n",
    "            print(\"Model with rank: {0}\".format(i))\n",
    "            print(\"Mean validation score: {0:.3f} (std: {1:.3f})\".format(\n",
    "                  results['mean_test_score'][candidate],\n",
    "                  results['std_test_score'][candidate]))\n",
    "            print(\"Parameters: {0}\".format(results['params'][candidate]))\n",
    "            print(\"\")\n",
    "\n",
    "\n",
    "# use a full grid over all parameters\n",
    "param_grid = {\"C\": [1, 2, 5, 7, 10, 100, 200, 400, 800]}\n",
    "\n",
    "# run grid search\n",
    "grid_search = GridSearchCV(clf, param_grid=param_grid, n_jobs = -1)\n",
    "start = time()\n",
    "grid_search.fit(X_train, y_train)\n",
    "\n",
    "print(\"GridSearchCV took %.2f seconds for %d candidate parameter settings.\"\n",
    "      % (time() - start, len(grid_search.cv_results_['params'])))\n",
    "report(grid_search.cv_results_)"
   ]
  },
  {
   "cell_type": "code",
   "execution_count": 30,
   "metadata": {
    "collapsed": false
   },
   "outputs": [
    {
     "name": "stdout",
     "output_type": "stream",
     "text": [
      "done in 0.731s\n",
      "Train set accuracy: 0.93 (+/- 0.05)\n",
      "Validation set accuracy: 0.93 (+/- 0.03)\n"
     ]
    }
   ],
   "source": [
    "\n",
    "from sklearn.linear_model import LogisticRegression\n",
    "from sklearn.model_selection import KFold\n",
    "from matplotlib import pyplot as plt\n",
    "from sklearn.svm import SVC\n",
    "import numpy as np\n",
    "import pandas\n",
    "import numpy as np\n",
    "from sklearn.model_selection import train_test_split\n",
    "from time import time\n",
    "from sklearn.model_selection import cross_val_score\n",
    "from sklearn.pipeline import make_pipeline\n",
    "from sklearn import preprocessing\n",
    "from sklearn.model_selection import ShuffleSplit\n",
    "\n",
    "X_original = pandas.read_csv('/Users/ceric/Downloads/deeplearning/project1/traindata.csv', ',')\n",
    "X = X_original\n",
    "y_true = pandas.read_csv('/Users/ceric/Downloads/deeplearning/project1/trainlabel.csv', ',')\n",
    "y = y_true['y']\n",
    "\n",
    "scalerX = preprocessing.StandardScaler().fit(X)\n",
    "X = scalerX.transform(X)     \n",
    "\n",
    "X_train, X_test, y_train, y_test = train_test_split(\n",
    "    X, y, test_size=0.7, random_state=0)\n",
    "\n",
    "t0 = time()\n",
    "clf = SVC(kernel='rbf', C=5)\n",
    "\n",
    "scores_train = cross_val_score(clf, X_train, y_train, cv=5)\n",
    "scores_test = cross_val_score(clf, X_test, y_test, cv=5)\n",
    "\n",
    "print(\"done in %0.3fs\" % (time() - t0))\n",
    "\n",
    "print(\"Train set accuracy: %0.2f (+/- %0.2f)\" % (scores_train.mean(), scores_train.std() * 2))\n",
    "print(\"Validation set accuracy: %0.2f (+/- %0.2f)\" % (scores_test.mean(), scores_test.std() * 2))"
   ]
  },
  {
   "cell_type": "code",
   "execution_count": 33,
   "metadata": {
    "collapsed": false
   },
   "outputs": [],
   "source": [
    "X_testdata = pandas.read_csv('/Users/ceric/Downloads/deeplearning/project1/testdata.csv', ',')\n",
    "X_testdata = scalerX.transform(X_testdata) \n",
    "y_prediction = clf.fit(X_train, y_train).predict(X_testdata)\n",
    "\n",
    "df = pandas.DataFrame()\n",
    "df['y'] = (y_prediction)\n",
    "df.to_csv('/Users/ceric/Downloads/deeplearning/project1/predictions.csv')"
   ]
  },
  {
   "cell_type": "code",
   "execution_count": null,
   "metadata": {
    "collapsed": true
   },
   "outputs": [],
   "source": []
  }
 ],
 "metadata": {
  "kernelspec": {
   "display_name": "Python [conda root]",
   "language": "python",
   "name": "conda-root-py"
  },
  "language_info": {
   "codemirror_mode": {
    "name": "ipython",
    "version": 2
   },
   "file_extension": ".py",
   "mimetype": "text/x-python",
   "name": "python",
   "nbconvert_exporter": "python",
   "pygments_lexer": "ipython2",
   "version": "2.7.12"
  }
 },
 "nbformat": 4,
 "nbformat_minor": 1
}
